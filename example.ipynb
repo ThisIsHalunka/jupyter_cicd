# example.ipynb

import pandas as pd
import numpy as np
import matplotlib.pyplot as plt

data = pd.Series(np.random.randn(100).cumsum())
data.plot()
plt.title("Random Walk")
plt.show()
