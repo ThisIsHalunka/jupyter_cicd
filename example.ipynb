name: Deploy Jupyter Notebook

on:
  push:
    branches:
      - main

jobs:
  deploy:
    runs-on: ubuntu-latest

    steps:
      - name: Checkout repository
        uses: actions/checkout@v3

      - name: Set up SSH agent
        uses: webfactory/ssh-agent@v0.7.0
        with:
          ssh-private-key: ${{ secrets.KEY }}

      - name: Copy notebook to droplet
        run: |
          echo "Uploading notebook..."
          echo '"""' > example.ipynb
          echo '{"cells":[{"cell_type":"code","execution_count":null,"id":"cell-id","metadata":{},"outputs":[],"source":["import numpy as np\n","import pandas as pd\n","import matplotlib.pyplot as plt\n","\n","data = pd.Series(np.random.randn(100).cumsum())\n","data.plot()\n","plt.title(\"Random Walk\")\n","plt.grid(True)\n","plt.show()"]}],"metadata":{"kernelspec":{"display_name":"Python 3","language":"python","name":"python3"},"language_info":{"name":"python","version":"3.8"}},"nbformat":4,"nbformat_minor":5}' >> example.ipynb
          echo '"""' >> example.ipynb
          scp -o StrictHostKeyChecking=no example.ipynb ${{ secrets.DROPLET_USER }}@${{ secrets.IP }}:~/example.ipynb

      - name: Launch Jupyter Notebook
        run: |
          ssh -o StrictHostKeyChecking=no ${{ secrets.DROPLET_USER }}@${{ secrets.IP }} << 'EOF'
            pip3 install --user --upgrade pip
            pip3 install --user notebook pandas numpy matplotlib
            pkill -f "jupyter-notebook" || true
            nohup ~/.local/bin/jupyter-notebook \
              --ip=0.0.0.0 \
              --port=8888 \
              --no-browser \
              --NotebookApp.token='' \
              --NotebookApp.password='' \
              --notebook-dir=~ > jupyter.log 2>&1 &
          EOF
